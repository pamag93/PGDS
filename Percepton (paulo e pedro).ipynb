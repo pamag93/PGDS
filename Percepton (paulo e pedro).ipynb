{
 "cells": [
  {
   "cell_type": "code",
   "execution_count": 25,
   "id": "c27b2bf8-4c37-4101-b595-0081d6cf3506",
   "metadata": {},
   "outputs": [
    {
     "name": "stdout",
     "output_type": "stream",
     "text": [
      "O valor dos pesos selecionados são: [0.8890059975307829, 0.9897357895566607]\n"
     ]
    },
    {
     "name": "stdin",
     "output_type": "stream",
     "text": [
      "Está satisfeito com os pesos ponderados indicados? S/N s\n",
      "Indique o threshold/bias do algoritmo Perceptron 0.5\n",
      "Indique o número de iterações a ser aplicadas ao algorito Percepton(número inteiro) 50\n"
     ]
    },
    {
     "name": "stdout",
     "output_type": "stream",
     "text": [
      "______\n",
      "iter: 1\n",
      "Prediction: 0  where actual was: 0 (error is: 0 )\n",
      "Prediction: 1  where actual was: 0 (error is: -1 )\n",
      "Prediction: 1  where actual was: 0 (error is: -1 )\n",
      "Prediction: 1  where actual was: 1 (error is: 0 )\n",
      "________________________________________________________________\n",
      "iter: 2\n",
      "Prediction: 0  where actual was: 0 (error is: 0 )\n",
      "Prediction: 1  where actual was: 0 (error is: -1 )\n",
      "Prediction: 1  where actual was: 0 (error is: -1 )\n",
      "Prediction: 1  where actual was: 1 (error is: 0 )\n",
      "________________________________________________________________\n",
      "iter: 3\n",
      "Prediction: 0  where actual was: 0 (error is: 0 )\n",
      "Prediction: 1  where actual was: 0 (error is: -1 )\n",
      "Prediction: 0  where actual was: 0 (error is: 0 )\n",
      "Prediction: 1  where actual was: 1 (error is: 0 )\n",
      "________________________________________________________________\n",
      "iter: 4\n",
      "Prediction: 0  where actual was: 0 (error is: 0 )\n",
      "Prediction: 0  where actual was: 0 (error is: 0 )\n",
      "Prediction: 0  where actual was: 0 (error is: 0 )\n",
      "Prediction: 1  where actual was: 1 (error is: 0 )\n",
      "________________________________________________________________\n",
      "________________________________________________________________\n",
      "Os pesos estimados que resultam das iterações são: [0.389005997530783, 0.48973578955666086]\n",
      "Parabéns!Perceptron did it well :D\n",
      "________________________________________________________________\n"
     ]
    },
    {
     "data": {
      "image/png": "[encoded data removed]",
      "text/plain": [
       "<Figure size 432x288 with 1 Axes>"
      ]
     },
     "metadata": {
      "needs_background": "light"
     },
     "output_type": "display_data"
    }
   ],
   "source": [
    "import numpy as np\n",
    "import matplotlib.pyplot as plt\n",
    "features = np.array ([\n",
    "    [0,0]\n",
    "    ,[0,1]\n",
    "    ,[1,0]\n",
    "    ,[1,1]\n",
    "])\n",
    "contador = 0\n",
    "result = np.array([0,0,0,1])\n",
    "lr = 0.1 #learning rate\n",
    "flag = True\n",
    "while flag:\n",
    "    p1 = np.random.rand()\n",
    "    p2 = np.random.rand()\n",
    "    w = [p1,p2]\n",
    "    print (\"O valor dos pesos selecionados são:\", w)\n",
    "    weight_define = input(\"Está satisfeito com os pesos ponderados indicados? S/N\")\n",
    "    if weight_define.capitalize()==\"S\":\n",
    "        flag = False\n",
    "        break        \n",
    "threshold = float(input(\"Indique o threshold/bias do algoritmo Perceptron\"))\n",
    "iter = int(input(\"Indique o número de iterações a ser aplicadas ao algorito Percepton(número inteiro)\")) #numero de iterações\n",
    "\n",
    "for j in range (1,iter+1):\n",
    "    print(\"iter:\",j)\n",
    "    global_delta = 0\n",
    "    for i in range (0,features.shape[0]):\n",
    "        \n",
    "        actual = result[i]\n",
    "        instance = features [i]\n",
    "        \n",
    "        x0 = instance[0]\n",
    "        x1 = instance[1]\n",
    "        plt.plot(x0,x1,'ro')\n",
    "        sum_unit = x0 * w[0] + x1* w[1]\n",
    "        \n",
    "  \n",
    "        if sum_unit > threshold:\n",
    "            control = 1\n",
    "        else:\n",
    "            control = 0\n",
    "\n",
    "        delta = actual - control\n",
    "        global_delta = global_delta + abs(delta)\n",
    "\n",
    "        print(\"Prediction:\",control,\" where actual was:\",actual,\"(error is:\",delta,\")\")\n",
    "\n",
    "        w[0] = w[0] + delta * lr\n",
    "        w[1] = w[1] + delta * lr  \n",
    "        \n",
    "        contador += 1/(features.shape[0]) #Como o array neste dataset composto por 4 elementos, se não fizer esta divisão, o contador assumiria 4, por isso efetuamos esta divisão\n",
    "    \n",
    "    print (\"________________________________________________________________\")\n",
    "    \n",
    "#---------------------------------------------------------------------\n",
    "    if global_delta == 0: \n",
    "    \n",
    "        break\n",
    "\n",
    "#Formula perceton w1x + w2y + b = 0 logo, podemos contruir linha com os atributos calculados conforme lógica abaixo, em que isolamos o y, para assumir a lógica y=mx+b\n",
    "x = np.linspace(-2,2,5)\n",
    "y=(threshold-w[0]*x)/w[1]\n",
    "plt.plot(x, y, '-g', label='Percepton line')\n",
    "plt.axis([-2, 2, -2, 2])\n",
    "plt.xlabel('x')\n",
    "plt.ylabel('y')\n",
    "plt.grid()\n",
    "\n",
    "#print (\"Erro algoritmo:\", global_delta)\n",
    "#print (\"Contador:\",contador)\n",
    "\n",
    "print (\"________________________________________________________________\")\n",
    "print(\"Os pesos estimados que resultam das iterações são:\",w)   \n",
    "if global_delta != 0 and contador == iter:\n",
    "    print(\"Não foi possivel chegar à solução final. Por favor tente novamente :( \")\n",
    "else:\n",
    "    print(\"Parabéns! Perceptron did it well :D\")\n",
    "print (\"________________________________________________________________\")\n",
    "\n"
   ]
  },
  {
   "cell_type": "code",
   "execution_count": null,
   "id": "6d07f000-f8cb-47ca-b78b-5d3a20da54da",
   "metadata": {},
   "outputs": [],
   "source": []
  },
  {
   "cell_type": "code",
   "execution_count": null,
   "id": "2ea2660b-927b-4473-8d34-cc2459d4285c",
   "metadata": {},
   "outputs": [],
   "source": []
  }
 ],
 "metadata": {
  "kernelspec": {
   "display_name": "Python 3",
   "language": "python",
   "name": "python3"
  },
  "language_info": {
   "codemirror_mode": {
    "name": "ipython",
    "version": 3
   },
   "file_extension": ".py",
   "mimetype": "text/x-python",
   "name": "python",
   "nbconvert_exporter": "python",
   "pygments_lexer": "ipython3",
   "version": "3.8.8"
  }
 },
 "nbformat": 4,
 "nbformat_minor": 5
}
