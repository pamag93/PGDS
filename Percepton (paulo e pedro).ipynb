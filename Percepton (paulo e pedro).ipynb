{
 "cells": [
  {
   "cell_type": "code",
   "execution_count": 33,
   "id": "8422f365-bbb2-4a6e-8cdb-ed07c3481f7f",
   "metadata": {},
   "outputs": [
    {
     "name": "stdout",
     "output_type": "stream",
     "text": [
      "0.05\n",
      "0.2\n",
      "0.2\n",
      "Output: 0\n"
     ]
    }
   ],
   "source": [
    "#template algoritmo percepton \n",
    "x_input = [0.1, 0.5, 0.2]\n",
    "y_peso_ponderado  = [0.5, 0.3, 0,6]\n",
    "bias = 0.5\n",
    "\n",
    "def classe (soma):\n",
    "    if soma > bias:\n",
    "        return 1\n",
    "    else:\n",
    "        return 0\n",
    "\n",
    "def percepton():\n",
    "    soma = 0\n",
    "    for x,y in zip(x_input,y_peso_ponderado):\n",
    "        soma += x*y\n",
    "        print (soma)\n",
    "    return classe (soma)\n",
    "\n",
    "output = percepton()\n",
    "print(f'Output: {output}')\n",
    "\n",
    "\n",
    "        "
   ]
  },
  {
   "cell_type": "code",
   "execution_count": null,
   "id": "7fe1b086-d90e-4709-ae02-0a67fac26676",
   "metadata": {},
   "outputs": [],
   "source": []
  }
 ],
 "metadata": {
  "kernelspec": {
   "display_name": "Python 3",
   "language": "python",
   "name": "python3"
  },
  "language_info": {
   "codemirror_mode": {
    "name": "ipython",
    "version": 3
   },
   "file_extension": ".py",
   "mimetype": "text/x-python",
   "name": "python",
   "nbconvert_exporter": "python",
   "pygments_lexer": "ipython3",
   "version": "3.8.8"
  }
 },
 "nbformat": 4,
 "nbformat_minor": 5
}
