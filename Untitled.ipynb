{
 "cells": [
  {
   "cell_type": "code",
   "execution_count": null,
   "id": "34b2e966-f676-4abb-b73e-5ea273a9b5f0",
   "metadata": {},
   "outputs": [],
   "source": [
    "\"\"\"\n",
    "#Formula perceton w1x + w2y + b = 0 logo, podemos contruir linha com os atributos calculados conforme lógica abaixo, em que isolamos o y, para assumir a lógica y=mx+b\n",
    "x = np.linspace(-2,2,5)\n",
    "y=(threshold-w[0]*x)/w[1]\n",
    "plt.plot(x, y, '-g', label='Percepton line')\n",
    "plt.axis([-2, 2, -2, 2])\n",
    "plt.xlabel('x')\n",
    "plt.ylabel('y')\n",
    "plt.grid()\n",
    "\n",
    "print (\"________________________________________________________________\")\n",
    "print(\"Os pesos estimados que resultam das iterações são:\",w)   \n",
    "if global_delta != 0 and contador == iter:\n",
    "    print(\"Não foi possivel chegar à solução final. Por favor tente novamente :( \")\n",
    "else:\n",
    "    print(\"Parabéns! Perceptron did it well :D\")\n",
    "print (\"________________________________________________________________\")\n",
    "\"\"\"\n"
   ]
  }
 ],
 "metadata": {
  "kernelspec": {
   "display_name": "Python 3",
   "language": "python",
   "name": "python3"
  },
  "language_info": {
   "codemirror_mode": {
    "name": "ipython",
    "version": 3
   },
   "file_extension": ".py",
   "mimetype": "text/x-python",
   "name": "python",
   "nbconvert_exporter": "python",
   "pygments_lexer": "ipython3",
   "version": "3.8.8"
  }
 },
 "nbformat": 4,
 "nbformat_minor": 5
}
